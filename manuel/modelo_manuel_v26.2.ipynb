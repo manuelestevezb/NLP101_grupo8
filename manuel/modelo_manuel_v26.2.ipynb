{
 "cells": [
  {
   "cell_type": "markdown",
   "id": "642699bb",
   "metadata": {},
   "source": [
    "# MAIA, NLP 101, Modelo Manuel"
   ]
  },
  {
   "cell_type": "markdown",
   "id": "9775746a",
   "metadata": {},
   "source": [
    "## Import Libraries"
   ]
  },
  {
   "cell_type": "code",
   "execution_count": 1,
   "id": "9fd7831f",
   "metadata": {},
   "outputs": [],
   "source": [
    "import re\n",
    "import time\n",
    "import numpy as np\n",
    "import pandas as pd\n",
    "import matplotlib.pyplot as plt\n",
    "import seaborn as sns\n",
    "from typing import List\n",
    "\n",
    "from scipy import sparse\n",
    "\n",
    "from sklearn.base import BaseEstimator, ClassifierMixin, clone\n",
    "from sklearn.model_selection import train_test_split\n",
    "from sklearn.pipeline import Pipeline\n",
    "from sklearn.feature_extraction.text import TfidfVectorizer\n",
    "from sklearn.preprocessing import FunctionTransformer\n",
    "from sklearn.svm import LinearSVC\n",
    "from sklearn.linear_model import LogisticRegression\n",
    "from sklearn.metrics import classification_report, f1_score"
   ]
  },
  {
   "cell_type": "markdown",
   "id": "f559e5c5",
   "metadata": {},
   "source": [
    "## Data Import"
   ]
  },
  {
   "cell_type": "code",
   "execution_count": 2,
   "id": "40d548fb",
   "metadata": {},
   "outputs": [
    {
     "data": {
      "text/html": [
       "<div>\n",
       "<style scoped>\n",
       "    .dataframe tbody tr th:only-of-type {\n",
       "        vertical-align: middle;\n",
       "    }\n",
       "\n",
       "    .dataframe tbody tr th {\n",
       "        vertical-align: top;\n",
       "    }\n",
       "\n",
       "    .dataframe thead th {\n",
       "        text-align: right;\n",
       "    }\n",
       "</style>\n",
       "<table border=\"1\" class=\"dataframe\">\n",
       "  <thead>\n",
       "    <tr style=\"text-align: right;\">\n",
       "      <th></th>\n",
       "      <th>text</th>\n",
       "      <th>decade</th>\n",
       "    </tr>\n",
       "  </thead>\n",
       "  <tbody>\n",
       "    <tr>\n",
       "      <th>0</th>\n",
       "      <td>\\nHonorarias ¡jubiladas. 57 \\ndit.ad Pontem de...</td>\n",
       "      <td>164</td>\n",
       "    </tr>\n",
       "    <tr>\n",
       "      <th>1</th>\n",
       "      <td>gone. Sus amigos , sus clientes, todo \\ncuanto...</td>\n",
       "      <td>182</td>\n",
       "    </tr>\n",
       "    <tr>\n",
       "      <th>2</th>\n",
       "      <td>Prefosen quemanera,e per qualesfolpechas deuan...</td>\n",
       "      <td>157</td>\n",
       "    </tr>\n",
       "    <tr>\n",
       "      <th>3</th>\n",
       "      <td>Caistro  el  M  a  y  o  r  a  i  .]  Del  ape...</td>\n",
       "      <td>163</td>\n",
       "    </tr>\n",
       "    <tr>\n",
       "      <th>4</th>\n",
       "      <td>\\nlos  que  panden  macho  ;  y \\notros  en  l...</td>\n",
       "      <td>166</td>\n",
       "    </tr>\n",
       "  </tbody>\n",
       "</table>\n",
       "</div>"
      ],
      "text/plain": [
       "                                                text  decade\n",
       "0  \\nHonorarias ¡jubiladas. 57 \\ndit.ad Pontem de...     164\n",
       "1  gone. Sus amigos , sus clientes, todo \\ncuanto...     182\n",
       "2  Prefosen quemanera,e per qualesfolpechas deuan...     157\n",
       "3  Caistro  el  M  a  y  o  r  a  i  .]  Del  ape...     163\n",
       "4  \\nlos  que  panden  macho  ;  y \\notros  en  l...     166"
      ]
     },
     "execution_count": 2,
     "metadata": {},
     "output_type": "execute_result"
    }
   ],
   "source": [
    "df_raw = pd.read_csv(\"../data/train.csv\")\n",
    "df_raw.head()"
   ]
  },
  {
   "cell_type": "code",
   "execution_count": 3,
   "id": "5426c665",
   "metadata": {},
   "outputs": [],
   "source": [
    "# Creamos una copia del dataframe\n",
    "df = df_raw.copy()"
   ]
  },
  {
   "cell_type": "markdown",
   "id": "17886a06",
   "metadata": {},
   "source": [
    "## Exploratory Analysis"
   ]
  },
  {
   "cell_type": "code",
   "execution_count": 4,
   "id": "d4d0337e",
   "metadata": {},
   "outputs": [
    {
     "data": {
      "text/plain": [
       "'Caistro  el  M  a  y  o  r  a  i  .]  Del  apellido  de  Cañroíe \\nvalió  Don  Luis  enefta.  Metáfora, para  el  nombre  que  fupo \\nne  de  Caiftro.  Mayoral  fe  llama  entre  los  ganaderos  el \\nque  tiene  el  primer  lugar,  y  a  quien  efián  fujetos  los  de¬ \\nmas, y  defia  mayoría  tomó  el  nombte. '"
      ]
     },
     "execution_count": 4,
     "metadata": {},
     "output_type": "execute_result"
    }
   ],
   "source": [
    "# Ver algunos ejemplos de texto\n",
    "df['text'][3]"
   ]
  },
  {
   "cell_type": "code",
   "execution_count": 5,
   "id": "e8990343",
   "metadata": {},
   "outputs": [
    {
     "data": {
      "text/plain": [
       "(31403, 2)"
      ]
     },
     "execution_count": 5,
     "metadata": {},
     "output_type": "execute_result"
    }
   ],
   "source": [
    "# Tamaño del dataset\n",
    "df.shape"
   ]
  },
  {
   "cell_type": "code",
   "execution_count": 6,
   "id": "5a0bdf33",
   "metadata": {},
   "outputs": [
    {
     "data": {
      "text/plain": [
       "text      0\n",
       "decade    0\n",
       "dtype: int64"
      ]
     },
     "execution_count": 6,
     "metadata": {},
     "output_type": "execute_result"
    }
   ],
   "source": [
    "# Datos vacíos\n",
    "df.isna().sum()"
   ]
  },
  {
   "cell_type": "code",
   "execution_count": 7,
   "id": "dc971fb6",
   "metadata": {},
   "outputs": [
    {
     "data": {
      "text/plain": [
       "np.int64(51)"
      ]
     },
     "execution_count": 7,
     "metadata": {},
     "output_type": "execute_result"
    }
   ],
   "source": [
    "# Datos repetidos\n",
    "df.duplicated(subset=['text']).sum()"
   ]
  },
  {
   "cell_type": "code",
   "execution_count": 8,
   "id": "e2bb436c",
   "metadata": {},
   "outputs": [
    {
     "name": "stdout",
     "output_type": "stream",
     "text": [
      "(31352, 2)\n"
     ]
    }
   ],
   "source": [
    "df.drop_duplicates(subset=['text'], inplace=True)\n",
    "\n",
    "print(df.shape)"
   ]
  },
  {
   "cell_type": "code",
   "execution_count": 9,
   "id": "c570a969",
   "metadata": {},
   "outputs": [
    {
     "name": "stdout",
     "output_type": "stream",
     "text": [
      "There are 39 unique decades\n"
     ]
    },
    {
     "data": {
      "image/png": "[encoded data removed]",
      "text/plain": [
       "<Figure size 640x480 with 1 Axes>"
      ]
     },
     "metadata": {},
     "output_type": "display_data"
    }
   ],
   "source": [
    "# Distribución de datos en décadas\n",
    "print(\"There are \" + str(len(df['decade'].unique())) + \" unique decades\")\n",
    "\n",
    "# Visual de la distribución\n",
    "sns.barplot(df.decade.value_counts())\n",
    "plt.title(\"Distribución datos entre categorías\")\n",
    "plt.xticks(rotation=90)\n",
    "plt.show()"
   ]
  },
  {
   "cell_type": "markdown",
   "id": "a02384d7",
   "metadata": {},
   "source": [
    "## Data Preprocessing"
   ]
  },
  {
   "cell_type": "code",
   "execution_count": 10,
   "id": "06856810",
   "metadata": {},
   "outputs": [],
   "source": [
    "def basic_clean(text: str) -> str:\n",
    "    # Keep accents (useful in Spanish), normalize spacing & control chars only.\n",
    "    text = re.sub(r'\\s+', ' ', str(text)).strip()\n",
    "    return text"
   ]
  },
  {
   "cell_type": "code",
   "execution_count": 11,
   "id": "5312955e",
   "metadata": {},
   "outputs": [],
   "source": [
    "test_df = df.copy().iloc[0, 0]"
   ]
  },
  {
   "cell_type": "code",
   "execution_count": 12,
   "id": "013c37b0",
   "metadata": {},
   "outputs": [
    {
     "data": {
      "text/plain": [
       "'Honorarias ¡jubiladas. 57 dit.ad Pontem de poreft.Proreg.118,3, $.9.M.-70 pag.4.1. 3 Ste ph.Gratian. difcept.291, áqu len nes parece que aísilte, O ayuda Calsiodoro lib,6.epuft.s 2.Donde * llama Ocloso CINGV- y 19'"
      ]
     },
     "execution_count": 12,
     "metadata": {},
     "output_type": "execute_result"
    }
   ],
   "source": [
    "basic_clean(test_df)"
   ]
  },
  {
   "cell_type": "markdown",
   "id": "7834fcad",
   "metadata": {},
   "source": [
    "## Model Training"
   ]
  },
  {
   "cell_type": "code",
   "execution_count": 13,
   "id": "376bb4e7",
   "metadata": {},
   "outputs": [],
   "source": [
    "X = df[\"text\"].astype(str).apply(basic_clean).values\n",
    "y = df[\"decade\"].astype(int).values\n",
    "\n",
    "def to_century_label(dec):\n",
    "    # 150..159 -> 150, 160..169 -> 160, etc.\n",
    "    return int(dec // 10 * 10)\n",
    "\n",
    "centuries = np.array([to_century_label(d) for d in y])\n",
    "\n",
    "X_train, X_valid, y_train, y_valid, c_train, c_valid = train_test_split(\n",
    "    X, y, centuries, test_size=0.15, random_state=42, stratify=y\n",
    ")"
   ]
  },
  {
   "cell_type": "code",
   "execution_count": 14,
   "id": "5edc338d",
   "metadata": {},
   "outputs": [
    {
     "name": "stderr",
     "output_type": "stream",
     "text": [
      "c:\\Users\\meeb1\\anaconda3\\envs\\venv_learn\\lib\\site-packages\\sklearn\\linear_model\\_logistic.py:1247: FutureWarning: 'multi_class' was deprecated in version 1.5 and will be removed in 1.7. From then on, it will always use 'multinomial'. Leave it to its default value to avoid this warning.\n",
      "  warnings.warn(\n",
      "c:\\Users\\meeb1\\anaconda3\\envs\\venv_learn\\lib\\site-packages\\sklearn\\linear_model\\_logistic.py:1247: FutureWarning: 'multi_class' was deprecated in version 1.5 and will be removed in 1.7. From then on, it will always use 'multinomial'. Leave it to its default value to avoid this warning.\n",
      "  warnings.warn(\n",
      "c:\\Users\\meeb1\\anaconda3\\envs\\venv_learn\\lib\\site-packages\\sklearn\\linear_model\\_logistic.py:1247: FutureWarning: 'multi_class' was deprecated in version 1.5 and will be removed in 1.7. From then on, it will always use 'multinomial'. Leave it to its default value to avoid this warning.\n",
      "  warnings.warn(\n",
      "c:\\Users\\meeb1\\anaconda3\\envs\\venv_learn\\lib\\site-packages\\sklearn\\linear_model\\_logistic.py:1247: FutureWarning: 'multi_class' was deprecated in version 1.5 and will be removed in 1.7. From then on, it will always use 'multinomial'. Leave it to its default value to avoid this warning.\n",
      "  warnings.warn(\n"
     ]
    },
    {
     "name": "stdout",
     "output_type": "stream",
     "text": [
      "Training time (ECOC multi-view): 56.3s\n"
     ]
    }
   ],
   "source": [
    "t0 = time.time()\n",
    "\n",
    "# === Base vectorizers (kept small for speed) ===\n",
    "char_vec = TfidfVectorizer(\n",
    "    analyzer=\"char_wb\", ngram_range=(3,5),\n",
    "    min_df=2, max_features=180_000, sublinear_tf=True\n",
    ")\n",
    "word_vec = TfidfVectorizer(\n",
    "    analyzer=\"word\", ngram_range=(1,2),\n",
    "    min_df=3, max_features=120_000, sublinear_tf=True,\n",
    "    stop_words=\"spanish\"\n",
    ")\n",
    "\n",
    "century_clf = Pipeline([\n",
    "    (\"clean\", FunctionTransformer(lambda x: [basic_clean(t) for t in x])),\n",
    "    (\"tfidf\", char_vec),\n",
    "    (\"clf\", LinearSVC(C=1.0))\n",
    "])\n",
    "\n",
    "# A compact per-century classifier: word + char stacked by simple concatenation of strings\n",
    "# (fast & surprisingly effective in practice).\n",
    "def concat_char_word_text(arr):\n",
    "    # cheap “feature union”: original + original (lets each vec see raw text)\n",
    "    return arr  # each pipeline has its own vectorizer anyway\n",
    "\n",
    "decade_clf_proto = Pipeline([\n",
    "    (\"clean\", FunctionTransformer(lambda x: [basic_clean(t) for t in x])),\n",
    "    (\"tfidf\", TfidfVectorizer(\n",
    "        analyzer=\"char_wb\", ngram_range=(3,5),\n",
    "        min_df=2, max_features=160_000, sublinear_tf=True\n",
    "    )),\n",
    "    (\"clf\", LogisticRegression(\n",
    "        solver=\"saga\", penalty=\"l2\", C=2.0,\n",
    "        multi_class=\"multinomial\", max_iter=300, n_jobs=-1\n",
    "    ))\n",
    "])\n",
    "\n",
    "class HierDecadeClassifier(BaseEstimator, ClassifierMixin):\n",
    "    def __init__(self, century_pipe, decade_pipe, century_labels=(150,160,170,180)):\n",
    "        self.century_pipe = century_pipe\n",
    "        self.decade_pipe = decade_pipe\n",
    "        self.century_labels = century_labels\n",
    "        self.decade_models_ = {}\n",
    "        self.century_model_ = None\n",
    "\n",
    "    def fit(self, X, y):\n",
    "        c = np.array([int(d // 10 * 10) for d in y])\n",
    "        # Fit century\n",
    "        self.century_model_ = clone(self.century_pipe).fit(X, c)\n",
    "        # Fit one decade model per century\n",
    "        self.decade_models_ = {}\n",
    "        for cen in self.century_labels:\n",
    "            idx = np.where(c == cen)[0]\n",
    "            if len(idx) == 0:\n",
    "                continue\n",
    "            X_c, y_c = X[idx], y[idx]\n",
    "            model = clone(self.decade_pipe).fit(X_c, y_c)\n",
    "            self.decade_models_[cen] = model\n",
    "        return self\n",
    "\n",
    "    def predict(self, X):\n",
    "        pred_cent = self.century_model_.predict(X)\n",
    "        out = np.empty(len(X), dtype=int)\n",
    "        for cen in self.century_labels:\n",
    "            idx = np.where(pred_cent == cen)[0]\n",
    "            if len(idx) == 0:\n",
    "                continue\n",
    "            model = self.decade_models_.get(cen, None)\n",
    "            if model is None:\n",
    "                # Fallback: nearest seen century model if something is missing\n",
    "                model = next(iter(self.decade_models_.values()))\n",
    "            out[idx] = model.predict(X[idx])\n",
    "        return out\n",
    "\n",
    "hier = HierDecadeClassifier(century_pipe=century_clf, decade_pipe=decade_clf_proto)\n",
    "hier.fit(X_train, y_train)\n",
    "\n",
    "train_time = time.time() - t0\n",
    "print(f\"Training time (ECOC multi-view): {train_time:.1f}s\")"
   ]
  },
  {
   "cell_type": "code",
   "execution_count": 15,
   "id": "1edac613",
   "metadata": {},
   "outputs": [],
   "source": [
    "#pd.DataFrame(voter.cv_results_).sort_values('mean_test_score', ascending=False)"
   ]
  },
  {
   "cell_type": "markdown",
   "id": "caac7b30",
   "metadata": {},
   "source": [
    "## Model Evaluation"
   ]
  },
  {
   "cell_type": "code",
   "execution_count": 16,
   "id": "511a797d",
   "metadata": {},
   "outputs": [
    {
     "name": "stdout",
     "output_type": "stream",
     "text": [
      "              precision    recall  f1-score   support\n",
      "\n",
      "         150      0.844     0.644     0.731       118\n",
      "         151      0.491     0.675     0.568       120\n",
      "         152      0.667     0.390     0.492       118\n",
      "         153      0.586     0.652     0.617       115\n",
      "         154      0.490     0.597     0.538       124\n",
      "         155      0.395     0.272     0.322       125\n",
      "         156      0.276     0.227     0.249       119\n",
      "         157      0.264     0.298     0.280       124\n",
      "         158      0.222     0.190     0.205       116\n",
      "         159      0.221     0.258     0.238       120\n",
      "         160      0.135     0.173     0.152       127\n",
      "         161      0.184     0.195     0.189       118\n",
      "         162      0.227     0.248     0.237       121\n",
      "         163      0.165     0.153     0.159       124\n",
      "         164      0.202     0.198     0.200       121\n",
      "         165      0.114     0.123     0.118       122\n",
      "         166      0.127     0.077     0.096       117\n",
      "         167      0.177     0.160     0.168       125\n",
      "         168      0.228     0.252     0.239       123\n",
      "         169      0.188     0.155     0.170       116\n",
      "         170      0.171     0.216     0.191       125\n",
      "         171      0.238     0.328     0.276       122\n",
      "         172      0.222     0.254     0.237       126\n",
      "         173      0.292     0.317     0.304       120\n",
      "         174      0.265     0.215     0.237       121\n",
      "         175      0.209     0.146     0.172       123\n",
      "         176      0.197     0.115     0.145       113\n",
      "         177      0.259     0.188     0.218       117\n",
      "         178      0.227     0.258     0.242       124\n",
      "         179      0.248     0.248     0.248       121\n",
      "         180      0.194     0.282     0.230       124\n",
      "         181      0.240     0.252     0.246       119\n",
      "         182      0.250     0.215     0.231       121\n",
      "         183      0.168     0.151     0.159       119\n",
      "         184      0.302     0.325     0.313       120\n",
      "         185      0.198     0.208     0.203       120\n",
      "         186      0.137     0.112     0.123       116\n",
      "         187      0.170     0.161     0.165       118\n",
      "         188      0.256     0.339     0.292       121\n",
      "\n",
      "    accuracy                          0.263      4703\n",
      "   macro avg      0.268     0.263     0.262      4703\n",
      "weighted avg      0.267     0.263     0.261      4703\n",
      "\n",
      "F1-macro: 0.2616079883592121\n"
     ]
    }
   ],
   "source": [
    "pred = hier.predict(X_valid)\n",
    "print(classification_report(y_valid, pred, digits=3))\n",
    "print(\"F1-macro:\", f1_score(y_valid, pred, average=\"macro\"))"
   ]
  },
  {
   "cell_type": "code",
   "execution_count": 17,
   "id": "b3cdd742",
   "metadata": {},
   "outputs": [
    {
     "data": {
      "text/html": [
       "<div>\n",
       "<style scoped>\n",
       "    .dataframe tbody tr th:only-of-type {\n",
       "        vertical-align: middle;\n",
       "    }\n",
       "\n",
       "    .dataframe tbody tr th {\n",
       "        vertical-align: top;\n",
       "    }\n",
       "\n",
       "    .dataframe thead th {\n",
       "        text-align: right;\n",
       "    }\n",
       "</style>\n",
       "<table border=\"1\" class=\"dataframe\">\n",
       "  <thead>\n",
       "    <tr style=\"text-align: right;\">\n",
       "      <th></th>\n",
       "      <th>id</th>\n",
       "      <th>text</th>\n",
       "    </tr>\n",
       "  </thead>\n",
       "  <tbody>\n",
       "    <tr>\n",
       "      <th>0</th>\n",
       "      <td>0</td>\n",
       "      <td>P.  Si  en  efta  convocación  trato  folament...</td>\n",
       "    </tr>\n",
       "    <tr>\n",
       "      <th>1</th>\n",
       "      <td>1</td>\n",
       "      <td>«Muy santo Padre : Ayer escribiá don Juan Man-...</td>\n",
       "    </tr>\n",
       "    <tr>\n",
       "      <th>2</th>\n",
       "      <td>2</td>\n",
       "      <td>Recibo, otorgado por Diego Gracián a favor de ...</td>\n",
       "    </tr>\n",
       "    <tr>\n",
       "      <th>3</th>\n",
       "      <td>3</td>\n",
       "      <td>6.  Los  Samaritanos  no  admitían  por \\nEfcr...</td>\n",
       "    </tr>\n",
       "    <tr>\n",
       "      <th>4</th>\n",
       "      <td>4</td>\n",
       "      <td>ü«mi  yofacaremisoiiejasfilasmaí \\nI nosodlosr...</td>\n",
       "    </tr>\n",
       "  </tbody>\n",
       "</table>\n",
       "</div>"
      ],
      "text/plain": [
       "   id                                               text\n",
       "0   0  P.  Si  en  efta  convocación  trato  folament...\n",
       "1   1  «Muy santo Padre : Ayer escribiá don Juan Man-...\n",
       "2   2  Recibo, otorgado por Diego Gracián a favor de ...\n",
       "3   3  6.  Los  Samaritanos  no  admitían  por \\nEfcr...\n",
       "4   4  ü«mi  yofacaremisoiiejasfilasmaí \\nI nosodlosr..."
      ]
     },
     "execution_count": 17,
     "metadata": {},
     "output_type": "execute_result"
    }
   ],
   "source": [
    "df_test = pd.read_csv('../data/eval.csv')\n",
    "df_test.head()"
   ]
  },
  {
   "cell_type": "markdown",
   "id": "5eeece2d",
   "metadata": {},
   "source": [
    "## Test Data"
   ]
  },
  {
   "cell_type": "code",
   "execution_count": 18,
   "id": "d115c13d",
   "metadata": {},
   "outputs": [
    {
     "data": {
      "text/html": [
       "<div>\n",
       "<style scoped>\n",
       "    .dataframe tbody tr th:only-of-type {\n",
       "        vertical-align: middle;\n",
       "    }\n",
       "\n",
       "    .dataframe tbody tr th {\n",
       "        vertical-align: top;\n",
       "    }\n",
       "\n",
       "    .dataframe thead th {\n",
       "        text-align: right;\n",
       "    }\n",
       "</style>\n",
       "<table border=\"1\" class=\"dataframe\">\n",
       "  <thead>\n",
       "    <tr style=\"text-align: right;\">\n",
       "      <th></th>\n",
       "      <th>id</th>\n",
       "      <th>text</th>\n",
       "      <th>answer</th>\n",
       "    </tr>\n",
       "  </thead>\n",
       "  <tbody>\n",
       "    <tr>\n",
       "      <th>0</th>\n",
       "      <td>0</td>\n",
       "      <td>P.  Si  en  efta  convocación  trato  folament...</td>\n",
       "      <td>173</td>\n",
       "    </tr>\n",
       "    <tr>\n",
       "      <th>1</th>\n",
       "      <td>1</td>\n",
       "      <td>«Muy santo Padre : Ayer escribiá don Juan Man-...</td>\n",
       "      <td>187</td>\n",
       "    </tr>\n",
       "    <tr>\n",
       "      <th>2</th>\n",
       "      <td>2</td>\n",
       "      <td>Recibo, otorgado por Diego Gracián a favor de ...</td>\n",
       "      <td>150</td>\n",
       "    </tr>\n",
       "    <tr>\n",
       "      <th>3</th>\n",
       "      <td>3</td>\n",
       "      <td>6.  Los  Samaritanos  no  admitían  por \\nEfcr...</td>\n",
       "      <td>169</td>\n",
       "    </tr>\n",
       "    <tr>\n",
       "      <th>4</th>\n",
       "      <td>4</td>\n",
       "      <td>ü«mi  yofacaremisoiiejasfilasmaí \\nI nosodlosr...</td>\n",
       "      <td>153</td>\n",
       "    </tr>\n",
       "  </tbody>\n",
       "</table>\n",
       "</div>"
      ],
      "text/plain": [
       "   id                                               text  answer\n",
       "0   0  P.  Si  en  efta  convocación  trato  folament...     173\n",
       "1   1  «Muy santo Padre : Ayer escribiá don Juan Man-...     187\n",
       "2   2  Recibo, otorgado por Diego Gracián a favor de ...     150\n",
       "3   3  6.  Los  Samaritanos  no  admitían  por \\nEfcr...     169\n",
       "4   4  ü«mi  yofacaremisoiiejasfilasmaí \\nI nosodlosr...     153"
      ]
     },
     "execution_count": 18,
     "metadata": {},
     "output_type": "execute_result"
    }
   ],
   "source": [
    "X_test = df_test[\"text\"].astype(str).apply(basic_clean).values\n",
    "y_test_pred = hier.predict(X_test)\n",
    "\n",
    "df_to_submit = df_test.copy()\n",
    "\n",
    "df_to_submit['answer'] = y_test_pred\n",
    "\n",
    "df_to_submit.head()"
   ]
  },
  {
   "cell_type": "code",
   "execution_count": 19,
   "id": "de7ec9b4",
   "metadata": {},
   "outputs": [
    {
     "data": {
      "text/html": [
       "<div>\n",
       "<style scoped>\n",
       "    .dataframe tbody tr th:only-of-type {\n",
       "        vertical-align: middle;\n",
       "    }\n",
       "\n",
       "    .dataframe tbody tr th {\n",
       "        vertical-align: top;\n",
       "    }\n",
       "\n",
       "    .dataframe thead th {\n",
       "        text-align: right;\n",
       "    }\n",
       "</style>\n",
       "<table border=\"1\" class=\"dataframe\">\n",
       "  <thead>\n",
       "    <tr style=\"text-align: right;\">\n",
       "      <th></th>\n",
       "      <th>id</th>\n",
       "      <th>answer</th>\n",
       "    </tr>\n",
       "  </thead>\n",
       "  <tbody>\n",
       "    <tr>\n",
       "      <th>0</th>\n",
       "      <td>0</td>\n",
       "      <td>173</td>\n",
       "    </tr>\n",
       "    <tr>\n",
       "      <th>1</th>\n",
       "      <td>1</td>\n",
       "      <td>187</td>\n",
       "    </tr>\n",
       "    <tr>\n",
       "      <th>2</th>\n",
       "      <td>2</td>\n",
       "      <td>150</td>\n",
       "    </tr>\n",
       "    <tr>\n",
       "      <th>3</th>\n",
       "      <td>3</td>\n",
       "      <td>169</td>\n",
       "    </tr>\n",
       "    <tr>\n",
       "      <th>4</th>\n",
       "      <td>4</td>\n",
       "      <td>153</td>\n",
       "    </tr>\n",
       "  </tbody>\n",
       "</table>\n",
       "</div>"
      ],
      "text/plain": [
       "   id  answer\n",
       "0   0     173\n",
       "1   1     187\n",
       "2   2     150\n",
       "3   3     169\n",
       "4   4     153"
      ]
     },
     "execution_count": 19,
     "metadata": {},
     "output_type": "execute_result"
    }
   ],
   "source": [
    "df_to_submit = df_to_submit.iloc[:, [0, 2]]\n",
    "df_to_submit.head()"
   ]
  },
  {
   "cell_type": "code",
   "execution_count": 20,
   "id": "07092616",
   "metadata": {},
   "outputs": [],
   "source": [
    "df_to_submit.to_csv('./output/manuel_output.csv', index=False)"
   ]
  },
  {
   "cell_type": "markdown",
   "id": "508ae145",
   "metadata": {},
   "source": [
    "## Store Model"
   ]
  },
  {
   "cell_type": "code",
   "execution_count": 25,
   "id": "584b1327",
   "metadata": {},
   "outputs": [
    {
     "name": "stdout",
     "output_type": "stream",
     "text": [
      "Saved to output/manuel_trained_model.pkl\n"
     ]
    }
   ],
   "source": [
    "# === Save ===\n",
    "import os\n",
    "os.makedirs(\"output\", exist_ok=True)\n",
    "\n",
    "# Pick the object to save: the whole search or just the best estimator\n",
    "try:\n",
    "    MODEL_TO_SAVE = hier._best_estimator\n",
    "except NameError:\n",
    "    raise RuntimeError(\"I expected your trained object to be named `rs`. Rename here if different.\")\n",
    "except AttributeError:\n",
    "    MODEL_TO_SAVE = hier  # if you didn't use search, or you want to keep the CV wrapper\n",
    "\n",
    "import cloudpickle as cp\n",
    "with open(\"output/manuel_trained_model.pkl\", \"wb\") as f:\n",
    "    cp.dump(MODEL_TO_SAVE, f)\n",
    "\n",
    "print(\"Saved to output/manuel_trained_model.pkl\")\n"
   ]
  },
  {
   "cell_type": "markdown",
   "id": "8707f5f7",
   "metadata": {},
   "source": [
    "## Load Model and predict, check against old predictions"
   ]
  },
  {
   "cell_type": "code",
   "execution_count": null,
   "id": "753ce2aa",
   "metadata": {},
   "outputs": [],
   "source": [
    "# === Load later (even in a fresh notebook) ===\n",
    "# import cloudpickle as cp\n",
    "with open(\"output/manuel_trained_model.pkl\", \"rb\") as f:\n",
    "    model_test = cp.load(f)\n",
    "\n",
    "probando_carga_y = model_test.predict(X_test)\n"
   ]
  }
 ],
 "metadata": {
  "kernelspec": {
   "display_name": "venv_learn",
   "language": "python",
   "name": "python3"
  },
  "language_info": {
   "codemirror_mode": {
    "name": "ipython",
    "version": 3
   },
   "file_extension": ".py",
   "mimetype": "text/x-python",
   "name": "python",
   "nbconvert_exporter": "python",
   "pygments_lexer": "ipython3",
   "version": "3.10.9"
  }
 },
 "nbformat": 4,
 "nbformat_minor": 5
}
